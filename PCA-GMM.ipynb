{
 "cells": [
  {
   "cell_type": "code",
   "execution_count": 1,
   "id": "8091995d-0ae4-4beb-b565-2ec4ad4c8dec",
   "metadata": {},
   "outputs": [],
   "source": [
    "import numpy as np\n",
    "\n",
    "import matplotlib.pyplot as plt\n",
    "\n",
    "import astropy.io.fits as pyfits\n",
    "import astropy.wcs as wcs\n",
    "\n",
    "from sklearn.decomposition import PCA\n",
    "\n",
    "## import functions\n",
    "import GMM_plot_library as pGMM\n",
    "import GMM_functions as fGMM\n",
    "import velocity_axis_datacube as vax"
   ]
  },
  {
   "cell_type": "markdown",
   "id": "e867738c-142a-4bb0-8130-57b953f08e32",
   "metadata": {},
   "source": [
    "### Notebook to explore if PCA can optimize GMM identification"
   ]
  },
  {
   "cell_type": "code",
   "execution_count": null,
   "id": "46b48034-6aab-4a05-9ba2-d9bb4f59692f",
   "metadata": {},
   "outputs": [],
   "source": []
  },
  {
   "cell_type": "code",
   "execution_count": null,
   "id": "c205187b-c56d-40b3-b29d-0cba202de182",
   "metadata": {},
   "outputs": [],
   "source": []
  },
  {
   "cell_type": "code",
   "execution_count": null,
   "id": "d848b7f6-3305-480c-bac9-9a82d0c17592",
   "metadata": {},
   "outputs": [],
   "source": []
  },
  {
   "cell_type": "code",
   "execution_count": null,
   "id": "e26d45a1-68f2-41aa-bffd-7b859be4eec0",
   "metadata": {},
   "outputs": [],
   "source": []
  }
 ],
 "metadata": {
  "kernelspec": {
   "display_name": "Python 3 (ipykernel)",
   "language": "python",
   "name": "python3"
  },
  "language_info": {
   "codemirror_mode": {
    "name": "ipython",
    "version": 3
   },
   "file_extension": ".py",
   "mimetype": "text/x-python",
   "name": "python",
   "nbconvert_exporter": "python",
   "pygments_lexer": "ipython3",
   "version": "3.10.9"
  }
 },
 "nbformat": 4,
 "nbformat_minor": 5
}
