{
 "cells": [
  {
   "cell_type": "markdown",
   "metadata": {},
   "source": [
    "# Inspect the spectra in the data cube\n",
    "- Here, the example focuses on RCW 79\n",
    "- Specifically, the goal is to inspect the data to see if Gaussian fitting is not too strongly affected by misrepresentation\n",
    "\n",
    "To assess whether GMM models is not affected by misrepresentation, individual velocity channels will be inspected. Specifically, their intensity probability distribution covering the full spatial map will be plotted."
   ]
  },
  {
   "cell_type": "code",
   "execution_count": null,
   "metadata": {},
   "outputs": [],
   "source": [
    "import numpy as np\n",
    "import astropy.io.fits as pyfits\n",
    "\n",
    "import matplotlib.pyplot as plt\n",
    "import matplotlib.colors as colors\n",
    "from mpl_toolkits.axes_grid1 import make_axes_locatable\n",
    "\n",
    "from sklearn.decomposition import PCA"
   ]
  },
  {
   "cell_type": "code",
   "execution_count": null,
   "metadata": {},
   "outputs": [],
   "source": [
    "import velocity_axis_datacube as vax"
   ]
  },
  {
   "cell_type": "code",
   "execution_count": null,
   "metadata": {},
   "outputs": [],
   "source": [
    "#### user input ####\n",
    "\n",
    "## Input for the data file\n",
    "path_file = 'data/'\n",
    "name_file = 'RCW79_CII_PCA_20_8_0p5_clean.fits'\n",
    "\n",
    "## information for the observational information\n",
    "noise_rms_obs = 0.6 ## K\n",
    "unit_intensity = \"T$_{mb}$ (K)\"\n",
    "unit_z_axis = \"v (km s$^{-1}$)\"\n",
    "\n",
    "## velocity information\n",
    "min_v = -70.\n",
    "max_v = -20.\n",
    "\n",
    "## the spatial region with data\n",
    "x_min, x_max = 15, 175\n",
    "y_min, y_max = 15, 175\n",
    "\n",
    "## A list of the velocities that we want to investigate\n",
    "vel_list = [-60., -48., -44., -35.]\n",
    "vel_combs_list = [[0,1], [1,2], [0,3]] ## list of the indices in vel_list that will be investigated with 2D histograms\n",
    "\n",
    "####################"
   ]
  },
  {
   "cell_type": "code",
   "execution_count": null,
   "metadata": {},
   "outputs": [],
   "source": [
    "## open the fits file and collect the data and header information\n",
    "hdu = pyfits.open(path_file + name_file)\n",
    "hdu.info()\n",
    "data = hdu[0].data\n",
    "header = hdu[0].header\n",
    "\n",
    "## store the spectral information (in km/s)\n",
    "dv = 0.001*header['CDELT3']\n",
    "crval = 0.001*header['CRVAL3']\n",
    "crpix = header['CRPIX3']"
   ]
  },
  {
   "cell_type": "code",
   "execution_count": null,
   "metadata": {},
   "outputs": [],
   "source": [
    "## Create the velocity array necessary for plotting\n",
    "vel_arr = vax.create_velocity_array(vax.pixel_to_vel(0, crval, dv, crpix), vax.pixel_to_vel(data.shape[0], crval, dv, crpix), dv)"
   ]
  },
  {
   "cell_type": "code",
   "execution_count": null,
   "metadata": {},
   "outputs": [],
   "source": [
    "## plot the average spectrum of the region\n",
    "plt.step(vel_arr, np.nanmin(data, axis = (1,2)))\n",
    "plt.xlim([min_v, max_v])\n",
    "\n",
    "## plot vertical lines that show the location of the considered velocities\n",
    "for vel in vel_list:\n",
    "    plt.axvline(x = vel, color = \"k\", linestyle = \":\")\n",
    "plt.plot([],[],\"k:\", label = \"studied velocities\")\n",
    "\n",
    "plt.legend()\n",
    "plt.show()"
   ]
  },
  {
   "cell_type": "code",
   "execution_count": null,
   "metadata": {},
   "outputs": [],
   "source": [
    "## Extract the intensity data for each velocity slice and store it in a list\n",
    "data_channel_list = []\n",
    "for vel in vel_list:\n",
    "    ## Get the pixel corresponding to the considered velocity and extract the data slice\n",
    "    pix = vax.vel_to_pixel(vel, crval, dv, crpix)\n",
    "    data_slice = data[pix:pix+1,:,:].ravel()\n",
    "    \n",
    "    ## remove all nans from the data\n",
    "    data_slice = data_slice[~np.isnan(data_slice)]\n",
    "    \n",
    "    ## add the result to the list\n",
    "    data_channel_list.append(data_slice)\n"
   ]
  },
  {
   "cell_type": "code",
   "execution_count": null,
   "metadata": {},
   "outputs": [],
   "source": [
    "## plot the intensity histograms of the intensity data for each considered velocity\n",
    "for vel, data_slice in zip(vel_list, data_channel_list):\n",
    "    plt.hist(data_slice, bins = int(np.sqrt(len(data_slice))), label = r'v = {vel:.1f} km s$^{{-1}}$'.format(vel = vel), alpha = 0.4)\n",
    "    \n",
    "plt.yscale('log') \n",
    "plt.legend()\n",
    "plt.show()"
   ]
  },
  {
   "cell_type": "code",
   "execution_count": null,
   "metadata": {},
   "outputs": [],
   "source": [
    "## plot 2D distributions\n",
    "fig, axs = plt.subplots(nrows = 1, ncols = 3, figsize = (12, 4))\n",
    "for idx, comb in enumerate(vel_combs_list):\n",
    "    temp_im = axs[idx].hist2d(data_channel_list[comb[0]], data_channel_list[comb[1]], bins = int((len(data_channel_list[comb[0]]))**(0.33)), norm = colors.LogNorm())\n",
    "    \n",
    "    ## set labels\n",
    "    axs[idx].set_xlabel(r'T$_{{mb}}$(v = {vel:.1f} km s$^{{-1}}$)'.format(vel = vel_list[comb[0]]))\n",
    "    axs[idx].set_ylabel(r'T$_{{mb}}$(v = {vel:.1f} km s$^{{-1}}$)'.format(vel = vel_list[comb[1]]))\n",
    "    \n",
    "    ## add the colorbar\n",
    "    cbar = fig.colorbar(temp_im[3], ax = axs[idx], orientation='vertical')\n",
    "    cbar.set_label(\"count\", labelpad = 5.,rotation = 270.)\n",
    "\n",
    "plt.tight_layout()\n",
    "plt.show()"
   ]
  },
  {
   "cell_type": "markdown",
   "metadata": {},
   "source": [
    "## PCA analysis"
   ]
  },
  {
   "cell_type": "code",
   "execution_count": null,
   "metadata": {},
   "outputs": [],
   "source": [
    "## limit the data to the preset velocity range\n",
    "z_b, z_e = vax.vel_to_pixel(min_v, crval, dv, crpix), vax.vel_to_pixel(max_v, crval, dv, crpix)\n",
    "data_cut = data[z_b:z_e, y_min:y_max, x_min:x_max]"
   ]
  },
  {
   "cell_type": "code",
   "execution_count": null,
   "metadata": {},
   "outputs": [],
   "source": [
    "## perform PCA for 1 component\n",
    "pca_2comp = PCA(n_components = 2)\n",
    "data_pca = np.reshape(data_cut, (data_cut.shape[0], -1))\n",
    "data_pca = data_pca.T"
   ]
  },
  {
   "cell_type": "code",
   "execution_count": null,
   "metadata": {},
   "outputs": [],
   "source": [
    "## perform PCA fitting and perform the dimensionality reduction\n",
    "pca_values = pca_2comp.fit_transform(data_pca)\n",
    "\n",
    "print(pca_values.shape)"
   ]
  }
 ],
 "metadata": {
  "kernelspec": {
   "display_name": "Python 3 (ipykernel)",
   "language": "python",
   "name": "python3"
  },
  "language_info": {
   "codemirror_mode": {
    "name": "ipython",
    "version": 3
   },
   "file_extension": ".py",
   "mimetype": "text/x-python",
   "name": "python",
   "nbconvert_exporter": "python",
   "pygments_lexer": "ipython3",
   "version": "3.11.4"
  }
 },
 "nbformat": 4,
 "nbformat_minor": 4
}
